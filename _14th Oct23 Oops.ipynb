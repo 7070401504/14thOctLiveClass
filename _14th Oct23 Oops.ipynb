{
 "cells": [
  {
   "cell_type": "code",
   "execution_count": 29,
   "id": "068d22af-86ea-4bb8-b389-9eecfeee6573",
   "metadata": {},
   "outputs": [],
   "source": [
    "class pwskill:\n",
    "    def __init__(self,mentor):\n",
    "        self.mentor=mentor\n",
    "    def mantor_name(self):\n",
    "        print(self.mentor)\n",
    "\n",
    "class datascience(pwskill):\n",
    "    def __init__(self,mentor,mentor_mail_id):\n",
    "        self.mentor=mentor\n",
    "        self.mentor_mail_id = mentor_mail_id\n",
    "    def show_info(self) :\n",
    "        print(self.mentor , self.mentor_mail_id)\n",
    "    "
   ]
  },
  {
   "cell_type": "code",
   "execution_count": 30,
   "id": "5ebe78bd-a40c-4871-9041-5baa860f358b",
   "metadata": {},
   "outputs": [],
   "source": [
    "python_basic = datascience(\"sudh\" , \"sdfdsf@gmail.com\")"
   ]
  },
  {
   "cell_type": "code",
   "execution_count": 31,
   "id": "7aeff668-4b4a-4da6-a3ab-7728361009c5",
   "metadata": {},
   "outputs": [
    {
     "name": "stdout",
     "output_type": "stream",
     "text": [
      "sudh\n"
     ]
    }
   ],
   "source": [
    "python_basic.mantor_name()"
   ]
  },
  {
   "cell_type": "code",
   "execution_count": 32,
   "id": "d6dfdc25-386b-479e-827b-1997c418d909",
   "metadata": {},
   "outputs": [
    {
     "name": "stdout",
     "output_type": "stream",
     "text": [
      "sudh sdfdsf@gmail.com\n"
     ]
    }
   ],
   "source": [
    "python_basic.show_info()"
   ]
  },
  {
   "cell_type": "code",
   "execution_count": 43,
   "id": "c457b21d-d7b9-4e72-a9e6-7f8b900047f0",
   "metadata": {},
   "outputs": [],
   "source": [
    "class pwskill:\n",
    "    def __init__(self,mentor):\n",
    "        self.mentor=mentor\n",
    "    def mantor_name(self):\n",
    "        print(self.mentor)\n",
    "\n",
    "class datascience(pwskill):\n",
    "    def __init__(self,mentor,mentor_mail_id):\n",
    "        #self.mentor=mentor\n",
    "        super().__init__(mentor)\n",
    "        self.mentor_mail_id = mentor_mail_id\n",
    "    def show_info(self) :\n",
    "        self.mantor_name()\n",
    "        print(self.mentor , self.mentor_mail_id)"
   ]
  },
  {
   "cell_type": "code",
   "execution_count": 44,
   "id": "3aeb6305-109e-4212-a959-6daad03dff68",
   "metadata": {},
   "outputs": [],
   "source": [
    "python_basic = datascience(\"sudh\" , \"sdfdsf@gmail.com\")"
   ]
  },
  {
   "cell_type": "code",
   "execution_count": 45,
   "id": "108a54cd-2784-4a63-9bc4-7a1bd3fefd53",
   "metadata": {},
   "outputs": [
    {
     "name": "stdout",
     "output_type": "stream",
     "text": [
      "sudh\n",
      "sudh sdfdsf@gmail.com\n"
     ]
    }
   ],
   "source": [
    "python_basic.show_info()"
   ]
  },
  {
   "cell_type": "code",
   "execution_count": 42,
   "id": "9f4d817d-367c-49fd-bc07-8ff9fe7b555a",
   "metadata": {},
   "outputs": [
    {
     "name": "stdout",
     "output_type": "stream",
     "text": [
      "sudh\n"
     ]
    }
   ],
   "source": [
    "python_basic.mantor_name()"
   ]
  },
  {
   "cell_type": "code",
   "execution_count": 66,
   "id": "a58141ba-ace8-4d36-b4ef-a9631b66d1b1",
   "metadata": {},
   "outputs": [],
   "source": [
    "class humen:\n",
    "    def __init__(self):\n",
    "        pass\n",
    "    def eat(self):\n",
    "        print(\"print the eat method from human\")"
   ]
  },
  {
   "cell_type": "code",
   "execution_count": 73,
   "id": "20e2144a-2594-4a9f-b350-9e59a1b1b0f7",
   "metadata": {},
   "outputs": [],
   "source": [
    "class male(humen):\n",
    "    def __init__(self,name):\n",
    "        self.name=name\n",
    "    def eat(self):\n",
    "        super().eat()\n",
    "        print(self.name)"
   ]
  },
  {
   "cell_type": "code",
   "execution_count": 74,
   "id": "d0d4ffef-a6dc-41ae-946c-5e24b693a98c",
   "metadata": {},
   "outputs": [],
   "source": [
    "sudh=male(\"shahanshah\")"
   ]
  },
  {
   "cell_type": "code",
   "execution_count": 75,
   "id": "3da687bb-6c96-4191-b024-4daf021c002e",
   "metadata": {},
   "outputs": [
    {
     "name": "stdout",
     "output_type": "stream",
     "text": [
      "print the eat method from human\n",
      "shahanshah\n"
     ]
    }
   ],
   "source": [
    "sudh.eat()"
   ]
  },
  {
   "cell_type": "code",
   "execution_count": null,
   "id": "73c142fe-084e-434f-8a2e-cc0061612344",
   "metadata": {},
   "outputs": [],
   "source": []
  },
  {
   "cell_type": "code",
   "execution_count": 76,
   "id": "d4b68dcf-0b43-474f-a81e-46e3fbd6548f",
   "metadata": {},
   "outputs": [],
   "source": [
    "class fileopenar:\n",
    "    def __init__(self,filename):\n",
    "        self.filename=filename\n",
    "    def open_file(self):\n",
    "        print(\"this will open \",self.filename)\n",
    "    def __del__(self):\n",
    "        print(\"close my file\")\n",
    "        \n",
    "    "
   ]
  },
  {
   "cell_type": "code",
   "execution_count": 77,
   "id": "cd73963b-8c9e-4ccd-99b6-85766ada05d6",
   "metadata": {},
   "outputs": [],
   "source": [
    "f1=fileopenar(\"f1.txt\")"
   ]
  },
  {
   "cell_type": "code",
   "execution_count": 78,
   "id": "83f49545-4332-4836-8db6-651894bd6178",
   "metadata": {},
   "outputs": [
    {
     "name": "stdout",
     "output_type": "stream",
     "text": [
      "this will open  f1.txt\n"
     ]
    }
   ],
   "source": [
    "f1.open_file()"
   ]
  },
  {
   "cell_type": "code",
   "execution_count": 85,
   "id": "52288a76-f5ad-43c9-bf98-8d90486de2b6",
   "metadata": {},
   "outputs": [],
   "source": [
    "import time\n",
    "class timer:\n",
    "    def __init__(self):\n",
    "        self.start_time.time()\n",
    "    def __del__(self):\n",
    "        time_spent=time.time()-self.start_time\n",
    "        print(time_spent)\n",
    "            "
   ]
  },
  {
   "cell_type": "code",
   "execution_count": 87,
   "id": "0b02bb94-26d0-4b48-9d08-40d8a840da58",
   "metadata": {},
   "outputs": [
    {
     "ename": "AttributeError",
     "evalue": "'timer' object has no attribute 'start_time'",
     "output_type": "error",
     "traceback": [
      "\u001b[0;31m---------------------------------------------------------------------------\u001b[0m",
      "\u001b[0;31mAttributeError\u001b[0m                            Traceback (most recent call last)",
      "Cell \u001b[0;32mIn[87], line 1\u001b[0m\n\u001b[0;32m----> 1\u001b[0m t1\u001b[38;5;241m=\u001b[39mtimer()\n",
      "Cell \u001b[0;32mIn[85], line 4\u001b[0m, in \u001b[0;36mtimer.__init__\u001b[0;34m(self)\u001b[0m\n\u001b[1;32m      3\u001b[0m \u001b[38;5;28;01mdef\u001b[39;00m \u001b[38;5;21m__init__\u001b[39m(\u001b[38;5;28mself\u001b[39m):\n\u001b[0;32m----> 4\u001b[0m     \u001b[38;5;28mself\u001b[39m\u001b[38;5;241m.\u001b[39mstart_time\u001b[38;5;241m.\u001b[39mtime()\n",
      "\u001b[0;31mAttributeError\u001b[0m: 'timer' object has no attribute 'start_time'"
     ]
    }
   ],
   "source": [
    "t1=timer()"
   ]
  },
  {
   "cell_type": "code",
   "execution_count": 3,
   "id": "35f82f16-ff52-4b69-89af-1280b6fbb15f",
   "metadata": {},
   "outputs": [],
   "source": [
    "import time \n",
    "class timer:\n",
    "    def __init__(self):\n",
    "        self.start_time = time.time()\n",
    "        \n",
    "    def task(self):\n",
    "        time_spent = time.time() - self.start_time\n",
    "        print(time_spent)\n",
    "        \n",
    "    def __del__(self):\n",
    "        print(\"\")\n",
    "        \n",
    "    def __str__(self) :\n",
    "        return \"this is my class timer\""
   ]
  },
  {
   "cell_type": "code",
   "execution_count": 7,
   "id": "615be07f-76be-48e4-9fb1-456cd931d0ff",
   "metadata": {},
   "outputs": [],
   "source": [
    "t1 = timer()"
   ]
  },
  {
   "cell_type": "code",
   "execution_count": 9,
   "id": "23fc39ab-116c-4d79-9af4-fe1a261871f8",
   "metadata": {},
   "outputs": [
    {
     "name": "stdout",
     "output_type": "stream",
     "text": [
      "this is my class timer\n"
     ]
    }
   ],
   "source": [
    "print(t1)"
   ]
  },
  {
   "cell_type": "code",
   "execution_count": 8,
   "id": "5e2ca902-36f1-4a70-8fb7-67df2b002cd6",
   "metadata": {},
   "outputs": [
    {
     "name": "stdout",
     "output_type": "stream",
     "text": [
      "0.3818318843841553\n"
     ]
    }
   ],
   "source": [
    "t1.task()"
   ]
  },
  {
   "cell_type": "code",
   "execution_count": 12,
   "id": "ebf6ecd3-379d-4ffa-8598-ce1088903c23",
   "metadata": {},
   "outputs": [],
   "source": [
    "def test(func):\n",
    "    def inner_test():\n",
    "        print(\"this is the start of my inner function\")\n",
    "        func\n",
    "        print(\"tthis is end of the inner test\")\n",
    "    return inner_test\n",
    "    \n",
    "\n",
    "#@test\n",
    "def test1():\n",
    "    print(\"thsi is my test1\")"
   ]
  },
  {
   "cell_type": "code",
   "execution_count": 13,
   "id": "a088fa81-c093-48bb-a2c0-0bfc9b2ae7ac",
   "metadata": {},
   "outputs": [
    {
     "name": "stdout",
     "output_type": "stream",
     "text": [
      "thsi is my test1\n"
     ]
    }
   ],
   "source": [
    "test1()"
   ]
  },
  {
   "cell_type": "code",
   "execution_count": 14,
   "id": "ec03a7c1-9c0d-4121-8f07-7399ac562499",
   "metadata": {},
   "outputs": [],
   "source": [
    "def test(func):\n",
    "    def inner_test():\n",
    "        print(\"this is the start of my inner test\")\n",
    "        func()\n",
    "        print(\"this the end of my inner test\")\n",
    "        \n",
    "    return inner_test\n",
    "    \n",
    "\n",
    "@test\n",
    "def test1():\n",
    "    print(\"thsi is my test1\")"
   ]
  },
  {
   "cell_type": "code",
   "execution_count": 9,
   "id": "86c84b10-da22-4aa1-9dcb-055aa4744e3c",
   "metadata": {},
   "outputs": [
    {
     "name": "stdout",
     "output_type": "stream",
     "text": [
      "this is the start of my inner test\n",
      "thsi is my test1\n",
      "this the end of my inner test\n"
     ]
    }
   ],
   "source": [
    "test1()"
   ]
  },
  {
   "cell_type": "code",
   "execution_count": 15,
   "id": "2774aa3d-3844-46b1-aae4-b5842236d47c",
   "metadata": {},
   "outputs": [
    {
     "data": {
      "text/plain": [
       "<function __main__.test.<locals>.inner_test()>"
      ]
     },
     "execution_count": 15,
     "metadata": {},
     "output_type": "execute_result"
    }
   ],
   "source": [
    "test(test1)"
   ]
  },
  {
   "cell_type": "code",
   "execution_count": 1,
   "id": "a215d312-632d-4fd6-b259-d16272c1cc69",
   "metadata": {},
   "outputs": [],
   "source": [
    "import time \n",
    "def print_list(l):\n",
    "    start_time=time.time()\n",
    "    for i in l:\n",
    "        print(i)\n",
    "    end_time=time.time()\n",
    "    total_time=end_time-start_time\n",
    "    print( total_time)"
   ]
  },
  {
   "cell_type": "code",
   "execution_count": 2,
   "id": "31cc313b-d6af-4a0c-b0a6-c06fc8ac657b",
   "metadata": {},
   "outputs": [],
   "source": [
    "def print(d):\n",
    "\n",
    "    print(d.keys())"
   ]
  },
  {
   "cell_type": "code",
   "execution_count": 3,
   "id": "4d4b2103-1b89-4d4b-8942-197bdaf8f6d0",
   "metadata": {},
   "outputs": [],
   "source": [
    "def find_time(func):\n",
    "    def cal_time(*args):\n",
    "        start_time = time.time()\n",
    "        func(*args)\n",
    "        end_time = time.time()\n",
    "        total_time = end_time - start_time\n",
    "        print(total_time)\n",
    "        \n",
    "    return cal_time"
   ]
  },
  {
   "cell_type": "code",
   "execution_count": 4,
   "id": "997f1042-f677-41b5-8252-9ae7f057e417",
   "metadata": {},
   "outputs": [],
   "source": [
    "@find_time\n",
    "def print_key(d):\n",
    "\n",
    "    print(d.keys())"
   ]
  },
  {
   "cell_type": "code",
   "execution_count": 5,
   "id": "affe464c-3371-4b1e-b09f-2431c9dd0495",
   "metadata": {},
   "outputs": [
    {
     "ename": "AttributeError",
     "evalue": "'dict_keys' object has no attribute 'keys'",
     "output_type": "error",
     "traceback": [
      "\u001b[0;31m---------------------------------------------------------------------------\u001b[0m",
      "\u001b[0;31mAttributeError\u001b[0m                            Traceback (most recent call last)",
      "Cell \u001b[0;32mIn[5], line 1\u001b[0m\n\u001b[0;32m----> 1\u001b[0m print_key({\u001b[38;5;124m\"\u001b[39m\u001b[38;5;124mkey\u001b[39m\u001b[38;5;124m\"\u001b[39m:\u001b[38;5;124m\"\u001b[39m\u001b[38;5;124mvalue\u001b[39m\u001b[38;5;124m\"\u001b[39m ,\u001b[38;5;124m\"\u001b[39m\u001b[38;5;124mname\u001b[39m\u001b[38;5;124m\"\u001b[39m : \u001b[38;5;124m\"\u001b[39m\u001b[38;5;124msudh\u001b[39m\u001b[38;5;124m\"\u001b[39m})\n",
      "Cell \u001b[0;32mIn[3], line 4\u001b[0m, in \u001b[0;36mfind_time.<locals>.cal_time\u001b[0;34m(*args)\u001b[0m\n\u001b[1;32m      2\u001b[0m \u001b[38;5;28;01mdef\u001b[39;00m \u001b[38;5;21mcal_time\u001b[39m(\u001b[38;5;241m*\u001b[39margs):\n\u001b[1;32m      3\u001b[0m     start_time \u001b[38;5;241m=\u001b[39m time\u001b[38;5;241m.\u001b[39mtime()\n\u001b[0;32m----> 4\u001b[0m     func(\u001b[38;5;241m*\u001b[39margs)\n\u001b[1;32m      5\u001b[0m     end_time \u001b[38;5;241m=\u001b[39m time\u001b[38;5;241m.\u001b[39mtime()\n\u001b[1;32m      6\u001b[0m     total_time \u001b[38;5;241m=\u001b[39m end_time \u001b[38;5;241m-\u001b[39m start_time\n",
      "Cell \u001b[0;32mIn[4], line 4\u001b[0m, in \u001b[0;36mprint_key\u001b[0;34m(d)\u001b[0m\n\u001b[1;32m      1\u001b[0m \u001b[38;5;129m@find_time\u001b[39m\n\u001b[1;32m      2\u001b[0m \u001b[38;5;28;01mdef\u001b[39;00m \u001b[38;5;21mprint_key\u001b[39m(d):\n\u001b[0;32m----> 4\u001b[0m     \u001b[38;5;28mprint\u001b[39m(d\u001b[38;5;241m.\u001b[39mkeys())\n",
      "Cell \u001b[0;32mIn[2], line 3\u001b[0m, in \u001b[0;36mprint\u001b[0;34m(d)\u001b[0m\n\u001b[1;32m      1\u001b[0m \u001b[38;5;28;01mdef\u001b[39;00m \u001b[38;5;21mprint\u001b[39m(d):\n\u001b[0;32m----> 3\u001b[0m     \u001b[38;5;28mprint\u001b[39m(d\u001b[38;5;241m.\u001b[39mkeys())\n",
      "\u001b[0;31mAttributeError\u001b[0m: 'dict_keys' object has no attribute 'keys'"
     ]
    }
   ],
   "source": [
    "print_key({\"key\":\"value\" ,\"name\" : \"sudh\"})"
   ]
  },
  {
   "cell_type": "markdown",
   "id": "af992ffb-7466-435f-947f-78c008280c4e",
   "metadata": {},
   "source": [
    "same program run by google coloub "
   ]
  },
  {
   "cell_type": "code",
   "execution_count": 6,
   "id": "cb21aa26-2ec0-4ee8-9c44-7c86a50d17a8",
   "metadata": {},
   "outputs": [],
   "source": [
    "def hello():\n",
    "    print(\"hello world\")\n",
    "    hello()"
   ]
  },
  {
   "cell_type": "code",
   "execution_count": 7,
   "id": "81e565c6-94cd-4446-b69b-b23cd45b7278",
   "metadata": {},
   "outputs": [],
   "source": [
    "import time \n",
    "def print_list(l):\n",
    "    start_time = time.time()\n",
    "    for i in l :\n",
    "            print(i)\n",
    "    end_time = time.time()\n",
    "    total_time = end_time - start_time\n",
    "    print(total_time)"
   ]
  },
  {
   "cell_type": "code",
   "execution_count": 8,
   "id": "bf3bf0b0-a4c4-4694-8f31-2f422013cde9",
   "metadata": {},
   "outputs": [],
   "source": [
    "def print_key(d):\n",
    "    \n",
    "    print(d.keys())\n"
   ]
  },
  {
   "cell_type": "code",
   "execution_count": 9,
   "id": "dbc0f917-7dd2-4357-9255-16346872034b",
   "metadata": {},
   "outputs": [],
   "source": [
    "def find_time(func):\n",
    "    def cal_time(*args):\n",
    "        start_time = time.time()\n",
    "        func(*args)\n",
    "        end_time = time.time()\n",
    "        total_time = end_time - start_time\n",
    "        print(total_time)\n",
    "        \n",
    "    return cal_time"
   ]
  },
  {
   "cell_type": "code",
   "execution_count": 10,
   "id": "7786891f-73d4-47d2-b92b-f841da307e39",
   "metadata": {},
   "outputs": [],
   "source": [
    "@find_time\n",
    "def print_key(d):\n",
    "    \n",
    "    print(d.keys())"
   ]
  },
  {
   "cell_type": "code",
   "execution_count": 11,
   "id": "d11cfd7e-80a4-4add-9f6c-4a728ec986fa",
   "metadata": {},
   "outputs": [
    {
     "ename": "AttributeError",
     "evalue": "'dict_keys' object has no attribute 'keys'",
     "output_type": "error",
     "traceback": [
      "\u001b[0;31m---------------------------------------------------------------------------\u001b[0m",
      "\u001b[0;31mAttributeError\u001b[0m                            Traceback (most recent call last)",
      "Cell \u001b[0;32mIn[11], line 1\u001b[0m\n\u001b[0;32m----> 1\u001b[0m print_key({\u001b[38;5;124m\"\u001b[39m\u001b[38;5;124mkey\u001b[39m\u001b[38;5;124m\"\u001b[39m:\u001b[38;5;124m\"\u001b[39m\u001b[38;5;124mvalue\u001b[39m\u001b[38;5;124m\"\u001b[39m ,\u001b[38;5;124m\"\u001b[39m\u001b[38;5;124mname\u001b[39m\u001b[38;5;124m\"\u001b[39m : \u001b[38;5;124m\"\u001b[39m\u001b[38;5;124msudh\u001b[39m\u001b[38;5;124m\"\u001b[39m})\n",
      "Cell \u001b[0;32mIn[9], line 4\u001b[0m, in \u001b[0;36mfind_time.<locals>.cal_time\u001b[0;34m(*args)\u001b[0m\n\u001b[1;32m      2\u001b[0m \u001b[38;5;28;01mdef\u001b[39;00m \u001b[38;5;21mcal_time\u001b[39m(\u001b[38;5;241m*\u001b[39margs):\n\u001b[1;32m      3\u001b[0m     start_time \u001b[38;5;241m=\u001b[39m time\u001b[38;5;241m.\u001b[39mtime()\n\u001b[0;32m----> 4\u001b[0m     func(\u001b[38;5;241m*\u001b[39margs)\n\u001b[1;32m      5\u001b[0m     end_time \u001b[38;5;241m=\u001b[39m time\u001b[38;5;241m.\u001b[39mtime()\n\u001b[1;32m      6\u001b[0m     total_time \u001b[38;5;241m=\u001b[39m end_time \u001b[38;5;241m-\u001b[39m start_time\n",
      "Cell \u001b[0;32mIn[10], line 4\u001b[0m, in \u001b[0;36mprint_key\u001b[0;34m(d)\u001b[0m\n\u001b[1;32m      1\u001b[0m \u001b[38;5;129m@find_time\u001b[39m\n\u001b[1;32m      2\u001b[0m \u001b[38;5;28;01mdef\u001b[39;00m \u001b[38;5;21mprint_key\u001b[39m(d):\n\u001b[0;32m----> 4\u001b[0m     \u001b[38;5;28mprint\u001b[39m(d\u001b[38;5;241m.\u001b[39mkeys())\n",
      "Cell \u001b[0;32mIn[2], line 3\u001b[0m, in \u001b[0;36mprint\u001b[0;34m(d)\u001b[0m\n\u001b[1;32m      1\u001b[0m \u001b[38;5;28;01mdef\u001b[39;00m \u001b[38;5;21mprint\u001b[39m(d):\n\u001b[0;32m----> 3\u001b[0m     \u001b[38;5;28mprint\u001b[39m(d\u001b[38;5;241m.\u001b[39mkeys())\n",
      "\u001b[0;31mAttributeError\u001b[0m: 'dict_keys' object has no attribute 'keys'"
     ]
    }
   ],
   "source": [
    "print_key({\"key\":\"value\" ,\"name\" : \"sudh\"})"
   ]
  },
  {
   "cell_type": "markdown",
   "id": "db795be4-60d8-41ee-887b-57ee1d1ed5c7",
   "metadata": {},
   "source": [
    "same program rrun by google colabe"
   ]
  },
  {
   "cell_type": "code",
   "execution_count": null,
   "id": "04637a47-1380-441d-8f59-b0bc8b11bada",
   "metadata": {},
   "outputs": [],
   "source": []
  },
  {
   "cell_type": "code",
   "execution_count": null,
   "id": "2a2c730a-dfc5-4e16-8508-7160b12632df",
   "metadata": {},
   "outputs": [],
   "source": []
  },
  {
   "cell_type": "code",
   "execution_count": 16,
   "id": "f6606e9d-c168-4d63-8c95-fe3226102a64",
   "metadata": {},
   "outputs": [],
   "source": [
    "import logging\n",
    "def log_fun(func):\n",
    "    def log_inner(*args):\n",
    "        logging.basicConfig(filename = \"test.log\" , level=logging.INFO)\n",
    "        logging.info(\"this is the a start of my func\")\n",
    "        func(*args)\n",
    "        logging.info(\"this is the a end of my func\")\n",
    "    return log_inner\n",
    "        "
   ]
  },
  {
   "cell_type": "code",
   "execution_count": 17,
   "id": "477e816f-72e4-4761-ac0d-79b3c29e18b2",
   "metadata": {},
   "outputs": [],
   "source": [
    "@find_time\n",
    "@log_fun\n",
    "def print_list(l):\n",
    "    for i in l :\n",
    "            print(i)"
   ]
  },
  {
   "cell_type": "code",
   "execution_count": 18,
   "id": "0957d267-f288-447c-8ce1-68fe5ba0c944",
   "metadata": {},
   "outputs": [
    {
     "ename": "AttributeError",
     "evalue": "'int' object has no attribute 'keys'",
     "output_type": "error",
     "traceback": [
      "\u001b[0;31m---------------------------------------------------------------------------\u001b[0m",
      "\u001b[0;31mAttributeError\u001b[0m                            Traceback (most recent call last)",
      "Cell \u001b[0;32mIn[18], line 1\u001b[0m\n\u001b[0;32m----> 1\u001b[0m print_list([\u001b[38;5;241m23\u001b[39m,\u001b[38;5;241m4\u001b[39m,\u001b[38;5;241m5\u001b[39m,\u001b[38;5;241m5\u001b[39m,\u001b[38;5;241m6\u001b[39m,\u001b[38;5;241m67\u001b[39m,\u001b[38;5;241m7\u001b[39m,\u001b[38;5;241m8\u001b[39m])\n",
      "Cell \u001b[0;32mIn[9], line 4\u001b[0m, in \u001b[0;36mfind_time.<locals>.cal_time\u001b[0;34m(*args)\u001b[0m\n\u001b[1;32m      2\u001b[0m \u001b[38;5;28;01mdef\u001b[39;00m \u001b[38;5;21mcal_time\u001b[39m(\u001b[38;5;241m*\u001b[39margs):\n\u001b[1;32m      3\u001b[0m     start_time \u001b[38;5;241m=\u001b[39m time\u001b[38;5;241m.\u001b[39mtime()\n\u001b[0;32m----> 4\u001b[0m     func(\u001b[38;5;241m*\u001b[39margs)\n\u001b[1;32m      5\u001b[0m     end_time \u001b[38;5;241m=\u001b[39m time\u001b[38;5;241m.\u001b[39mtime()\n\u001b[1;32m      6\u001b[0m     total_time \u001b[38;5;241m=\u001b[39m end_time \u001b[38;5;241m-\u001b[39m start_time\n",
      "Cell \u001b[0;32mIn[16], line 6\u001b[0m, in \u001b[0;36mlog_fun.<locals>.log_inner\u001b[0;34m(*args)\u001b[0m\n\u001b[1;32m      4\u001b[0m logging\u001b[38;5;241m.\u001b[39mbasicConfig(filename \u001b[38;5;241m=\u001b[39m \u001b[38;5;124m\"\u001b[39m\u001b[38;5;124mtest.log\u001b[39m\u001b[38;5;124m\"\u001b[39m , level\u001b[38;5;241m=\u001b[39mlogging\u001b[38;5;241m.\u001b[39mINFO)\n\u001b[1;32m      5\u001b[0m logging\u001b[38;5;241m.\u001b[39minfo(\u001b[38;5;124m\"\u001b[39m\u001b[38;5;124mthis is the a start of my func\u001b[39m\u001b[38;5;124m\"\u001b[39m)\n\u001b[0;32m----> 6\u001b[0m func(\u001b[38;5;241m*\u001b[39margs)\n\u001b[1;32m      7\u001b[0m logging\u001b[38;5;241m.\u001b[39minfo(\u001b[38;5;124m\"\u001b[39m\u001b[38;5;124mthis is the a end of my func\u001b[39m\u001b[38;5;124m\"\u001b[39m)\n",
      "Cell \u001b[0;32mIn[17], line 5\u001b[0m, in \u001b[0;36mprint_list\u001b[0;34m(l)\u001b[0m\n\u001b[1;32m      1\u001b[0m \u001b[38;5;129m@find_time\u001b[39m\n\u001b[1;32m      2\u001b[0m \u001b[38;5;129m@log_fun\u001b[39m\n\u001b[1;32m      3\u001b[0m \u001b[38;5;28;01mdef\u001b[39;00m \u001b[38;5;21mprint_list\u001b[39m(l):\n\u001b[1;32m      4\u001b[0m     \u001b[38;5;28;01mfor\u001b[39;00m i \u001b[38;5;129;01min\u001b[39;00m l :\n\u001b[0;32m----> 5\u001b[0m             \u001b[38;5;28mprint\u001b[39m(i)\n",
      "Cell \u001b[0;32mIn[2], line 3\u001b[0m, in \u001b[0;36mprint\u001b[0;34m(d)\u001b[0m\n\u001b[1;32m      1\u001b[0m \u001b[38;5;28;01mdef\u001b[39;00m \u001b[38;5;21mprint\u001b[39m(d):\n\u001b[0;32m----> 3\u001b[0m     \u001b[38;5;28mprint\u001b[39m(d\u001b[38;5;241m.\u001b[39mkeys())\n",
      "\u001b[0;31mAttributeError\u001b[0m: 'int' object has no attribute 'keys'"
     ]
    }
   ],
   "source": [
    "print_list([23,4,5,5,6,67,7,8])"
   ]
  },
  {
   "cell_type": "code",
   "execution_count": 19,
   "id": "0f8166d5-7349-420d-852f-bd77f92586e3",
   "metadata": {},
   "outputs": [
    {
     "ename": "AttributeError",
     "evalue": "'str' object has no attribute 'keys'",
     "output_type": "error",
     "traceback": [
      "\u001b[0;31m---------------------------------------------------------------------------\u001b[0m",
      "\u001b[0;31mAttributeError\u001b[0m                            Traceback (most recent call last)",
      "Cell \u001b[0;32mIn[19], line 13\u001b[0m\n\u001b[1;32m     10\u001b[0m     \u001b[38;5;28mprint\u001b[39m(\u001b[38;5;124m\"\u001b[39m\u001b[38;5;124mHello!\u001b[39m\u001b[38;5;124m\"\u001b[39m)\n\u001b[1;32m     12\u001b[0m \u001b[38;5;66;03m# Calling the decorated function\u001b[39;00m\n\u001b[0;32m---> 13\u001b[0m say_hello()\n",
      "Cell \u001b[0;32mIn[19], line 3\u001b[0m, in \u001b[0;36mmy_decorator.<locals>.wrapper\u001b[0;34m()\u001b[0m\n\u001b[1;32m      2\u001b[0m \u001b[38;5;28;01mdef\u001b[39;00m \u001b[38;5;21mwrapper\u001b[39m():\n\u001b[0;32m----> 3\u001b[0m     \u001b[38;5;28mprint\u001b[39m(\u001b[38;5;124m\"\u001b[39m\u001b[38;5;124mSomething is happening before the function is called.\u001b[39m\u001b[38;5;124m\"\u001b[39m)\n\u001b[1;32m      4\u001b[0m     func()\n\u001b[1;32m      5\u001b[0m     \u001b[38;5;28mprint\u001b[39m(\u001b[38;5;124m\"\u001b[39m\u001b[38;5;124mSomething is happening after the function is called.\u001b[39m\u001b[38;5;124m\"\u001b[39m)\n",
      "Cell \u001b[0;32mIn[2], line 3\u001b[0m, in \u001b[0;36mprint\u001b[0;34m(d)\u001b[0m\n\u001b[1;32m      1\u001b[0m \u001b[38;5;28;01mdef\u001b[39;00m \u001b[38;5;21mprint\u001b[39m(d):\n\u001b[0;32m----> 3\u001b[0m     \u001b[38;5;28mprint\u001b[39m(d\u001b[38;5;241m.\u001b[39mkeys())\n",
      "\u001b[0;31mAttributeError\u001b[0m: 'str' object has no attribute 'keys'"
     ]
    }
   ],
   "source": [
    "def my_decorator(func):\n",
    "    def wrapper():\n",
    "        print(\"Something is happening before the function is called.\")\n",
    "        func()\n",
    "        print(\"Something is happening after the function is called.\")\n",
    "    return wrapper\n",
    "\n",
    "@my_decorator\n",
    "def say_hello():\n",
    "    print(\"Hello!\")\n",
    "\n",
    "# Calling the decorated function\n",
    "say_hello()\n"
   ]
  },
  {
   "cell_type": "code",
   "execution_count": 20,
   "id": "d73978da-2dcc-465f-b5aa-9540c6088265",
   "metadata": {},
   "outputs": [],
   "source": [
    "class sudh:\n",
    "    def __init__(self , subject):\n",
    "        self.__subject = subject\n",
    "        \n",
    "    @property\n",
    "    def subject1(self):\n",
    "        return self.__subject\n",
    "    \n",
    "    @subject1.setter\n",
    "    def subject1(self,subject):\n",
    "        self.__subject = subject\n",
    "    \n",
    "    @subject1.getter\n",
    "    def subject1(self):\n",
    "        return self.__subject"
   ]
  },
  {
   "cell_type": "code",
   "execution_count": 21,
   "id": "4bde57a7-0c1e-4826-979b-29c44fe80d12",
   "metadata": {},
   "outputs": [],
   "source": [
    "s2 = sudh(\"data analytics\")"
   ]
  },
  {
   "cell_type": "code",
   "execution_count": 22,
   "id": "ceca66d7-9333-41f9-bc3a-6627168c408f",
   "metadata": {},
   "outputs": [
    {
     "data": {
      "text/plain": [
       "'data analytics'"
      ]
     },
     "execution_count": 22,
     "metadata": {},
     "output_type": "execute_result"
    }
   ],
   "source": [
    "s2.subject1"
   ]
  },
  {
   "cell_type": "code",
   "execution_count": null,
   "id": "d94fcecd-bc95-4464-a4a2-9939c6c7e1ee",
   "metadata": {},
   "outputs": [],
   "source": [
    "SESSON END"
   ]
  }
 ],
 "metadata": {
  "kernelspec": {
   "display_name": "Python 3 (ipykernel)",
   "language": "python",
   "name": "python3"
  },
  "language_info": {
   "codemirror_mode": {
    "name": "ipython",
    "version": 3
   },
   "file_extension": ".py",
   "mimetype": "text/x-python",
   "name": "python",
   "nbconvert_exporter": "python",
   "pygments_lexer": "ipython3",
   "version": "3.11.5"
  }
 },
 "nbformat": 4,
 "nbformat_minor": 5
}
